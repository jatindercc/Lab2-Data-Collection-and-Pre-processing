{
 "cells": [
  {
   "cell_type": "markdown",
   "metadata": {},
   "source": [
    "## Step 1: Hello, Data!\n",
    "Load raw CSV, display first 3 rows"
   ]
  },
  {
   "cell_type": "code",
   "execution_count": null,
   "id": "1b33b701",
   "metadata": {},
   "outputs": [
    {
     "data": {
      "application/vnd.microsoft.datawrangler.viewer.v0+json": {
       "columns": [
        {
         "name": "index",
         "rawType": "int64",
         "type": "integer"
        },
        {
         "name": "Region",
         "rawType": "object",
         "type": "string"
        },
        {
         "name": "Country",
         "rawType": "object",
         "type": "string"
        },
        {
         "name": "Item Type",
         "rawType": "object",
         "type": "string"
        },
        {
         "name": "Sales Channel",
         "rawType": "object",
         "type": "string"
        },
        {
         "name": "Order Priority",
         "rawType": "object",
         "type": "string"
        },
        {
         "name": "Order Date",
         "rawType": "object",
         "type": "string"
        },
        {
         "name": "Order ID",
         "rawType": "int64",
         "type": "integer"
        },
        {
         "name": "Ship Date",
         "rawType": "object",
         "type": "string"
        },
        {
         "name": "Units Sold",
         "rawType": "int64",
         "type": "integer"
        },
        {
         "name": "Unit Price",
         "rawType": "float64",
         "type": "float"
        },
        {
         "name": "Unit Cost",
         "rawType": "float64",
         "type": "float"
        },
        {
         "name": "Total Revenue",
         "rawType": "float64",
         "type": "float"
        },
        {
         "name": "Total Cost",
         "rawType": "float64",
         "type": "float"
        },
        {
         "name": "Total Profit",
         "rawType": "float64",
         "type": "float"
        }
       ],
       "ref": "49f5ca26-6a6e-4b6e-b824-957278611fdd",
       "rows": [
        [
         "0",
         "Middle East and North Africa",
         "Libya",
         "Cosmetics",
         "Offline",
         "M",
         "10/18/2014",
         "686800706",
         "10/31/2014",
         "8446",
         "437.2",
         "263.33",
         "3692591.2",
         "2224085.18",
         "1468506.02"
        ],
        [
         "1",
         "North America",
         "Canada",
         "Vegetables",
         "Online",
         "M",
         "11/7/2011",
         "185941302",
         "12/8/2011",
         "3018",
         "154.06",
         "90.93",
         "464953.08",
         "274426.74",
         "190526.34"
        ],
        [
         "2",
         "Middle East and North Africa",
         "Libya",
         "Baby Food",
         "Offline",
         "C",
         "10/31/2016",
         "246222341",
         "12/9/2016",
         "1517",
         "255.28",
         "159.42",
         "387259.76",
         "241840.14",
         "145419.62"
        ]
       ],
       "shape": {
        "columns": 14,
        "rows": 3
       }
      },
      "text/html": [
       "<div>\n",
       "<style scoped>\n",
       "    .dataframe tbody tr th:only-of-type {\n",
       "        vertical-align: middle;\n",
       "    }\n",
       "\n",
       "    .dataframe tbody tr th {\n",
       "        vertical-align: top;\n",
       "    }\n",
       "\n",
       "    .dataframe thead th {\n",
       "        text-align: right;\n",
       "    }\n",
       "</style>\n",
       "<table border=\"1\" class=\"dataframe\">\n",
       "  <thead>\n",
       "    <tr style=\"text-align: right;\">\n",
       "      <th></th>\n",
       "      <th>Region</th>\n",
       "      <th>Country</th>\n",
       "      <th>Item Type</th>\n",
       "      <th>Sales Channel</th>\n",
       "      <th>Order Priority</th>\n",
       "      <th>Order Date</th>\n",
       "      <th>Order ID</th>\n",
       "      <th>Ship Date</th>\n",
       "      <th>Units Sold</th>\n",
       "      <th>Unit Price</th>\n",
       "      <th>Unit Cost</th>\n",
       "      <th>Total Revenue</th>\n",
       "      <th>Total Cost</th>\n",
       "      <th>Total Profit</th>\n",
       "    </tr>\n",
       "  </thead>\n",
       "  <tbody>\n",
       "    <tr>\n",
       "      <th>0</th>\n",
       "      <td>Middle East and North Africa</td>\n",
       "      <td>Libya</td>\n",
       "      <td>Cosmetics</td>\n",
       "      <td>Offline</td>\n",
       "      <td>M</td>\n",
       "      <td>10/18/2014</td>\n",
       "      <td>686800706</td>\n",
       "      <td>10/31/2014</td>\n",
       "      <td>8446</td>\n",
       "      <td>437.20</td>\n",
       "      <td>263.33</td>\n",
       "      <td>3692591.20</td>\n",
       "      <td>2224085.18</td>\n",
       "      <td>1468506.02</td>\n",
       "    </tr>\n",
       "    <tr>\n",
       "      <th>1</th>\n",
       "      <td>North America</td>\n",
       "      <td>Canada</td>\n",
       "      <td>Vegetables</td>\n",
       "      <td>Online</td>\n",
       "      <td>M</td>\n",
       "      <td>11/7/2011</td>\n",
       "      <td>185941302</td>\n",
       "      <td>12/8/2011</td>\n",
       "      <td>3018</td>\n",
       "      <td>154.06</td>\n",
       "      <td>90.93</td>\n",
       "      <td>464953.08</td>\n",
       "      <td>274426.74</td>\n",
       "      <td>190526.34</td>\n",
       "    </tr>\n",
       "    <tr>\n",
       "      <th>2</th>\n",
       "      <td>Middle East and North Africa</td>\n",
       "      <td>Libya</td>\n",
       "      <td>Baby Food</td>\n",
       "      <td>Offline</td>\n",
       "      <td>C</td>\n",
       "      <td>10/31/2016</td>\n",
       "      <td>246222341</td>\n",
       "      <td>12/9/2016</td>\n",
       "      <td>1517</td>\n",
       "      <td>255.28</td>\n",
       "      <td>159.42</td>\n",
       "      <td>387259.76</td>\n",
       "      <td>241840.14</td>\n",
       "      <td>145419.62</td>\n",
       "    </tr>\n",
       "  </tbody>\n",
       "</table>\n",
       "</div>"
      ],
      "text/plain": [
       "                         Region Country   Item Type Sales Channel  \\\n",
       "0  Middle East and North Africa   Libya   Cosmetics       Offline   \n",
       "1                 North America  Canada  Vegetables        Online   \n",
       "2  Middle East and North Africa   Libya   Baby Food       Offline   \n",
       "\n",
       "  Order Priority  Order Date   Order ID   Ship Date  Units Sold  Unit Price  \\\n",
       "0              M  10/18/2014  686800706  10/31/2014        8446      437.20   \n",
       "1              M   11/7/2011  185941302   12/8/2011        3018      154.06   \n",
       "2              C  10/31/2016  246222341   12/9/2016        1517      255.28   \n",
       "\n",
       "   Unit Cost  Total Revenue  Total Cost  Total Profit  \n",
       "0     263.33     3692591.20  2224085.18    1468506.02  \n",
       "1      90.93      464953.08   274426.74     190526.34  \n",
       "2     159.42      387259.76   241840.14     145419.62  "
      ]
     },
     "execution_count": 1,
     "metadata": {},
     "output_type": "execute_result"
    }
   ],
   "source": [
    "import pandas as pd\n",
    "df = pd.read_csv('data/1000SalesRecords.csv')\n",
    "df.head(3)"
   ]
  },
  {
   "cell_type": "markdown",
   "id": "046d0703",
   "metadata": {},
   "source": [
    "## Step 2: Pick the Right Container\n",
    "Justify dict vs namedtuple vs sets"
   ]
  },
  {
   "cell_type": "markdown",
   "id": "d544d8a4",
   "metadata": {},
   "source": [
    "We will use **dict** because it provides key-value mapping and is flexible for transformations. \n",
    "Namedtuple is immutable and sets only hold unique values without context."
   ]
  },
  {
   "cell_type": "markdown",
   "id": "658b8548",
   "metadata": {},
   "source": [
    "## Step 3: Implement Functions and Data Structure\n",
    "Using a small Python class with methods `.clean()` and `.total()`"
   ]
  },
  {
   "cell_type": "code",
   "execution_count": null,
   "id": "7634dc52",
   "metadata": {},
   "outputs": [
    {
     "name": "stdout",
     "output_type": "stream",
     "text": [
      "Cleaned data: before=1000 rows, after=1000 rows.\n",
      "[{'Region': 'Middle East and North Africa', 'Country': 'Libya', 'Item Type': 'Cosmetics', 'Sales Channel': 'Offline', 'Order Priority': 'M', 'Order Date': '10/18/2014', 'Order ID': 686800706, 'Ship Date': '10/31/2014', 'Units Sold': 8446, 'Unit Price': 437.2, 'Unit Cost': 263.33, 'Total Revenue': 3692591.2, 'Total Cost': 2224085.18, 'Total Profit': 1468506.02}, {'Region': 'North America', 'Country': 'Canada', 'Item Type': 'Vegetables', 'Sales Channel': 'Online', 'Order Priority': 'M', 'Order Date': '11/7/2011', 'Order ID': 185941302, 'Ship Date': '12/8/2011', 'Units Sold': 3018, 'Unit Price': 154.06, 'Unit Cost': 90.93, 'Total Revenue': 464953.08, 'Total Cost': 274426.74, 'Total Profit': 190526.34}, {'Region': 'Middle East and North Africa', 'Country': 'Libya', 'Item Type': 'Baby Food', 'Sales Channel': 'Offline', 'Order Priority': 'C', 'Order Date': '10/31/2016', 'Order ID': 246222341, 'Ship Date': '12/9/2016', 'Units Sold': 1517, 'Unit Price': 255.28, 'Unit Cost': 159.42, 'Total Revenue': 387259.76, 'Total Cost': 241840.14, 'Total Profit': 145419.62}]\n",
      "Total Revenue: 1327321840.33\n"
     ]
    }
   ],
   "source": [
    "class SalesDataProcessor:\n",
    "    def __init__(self, file_path):\n",
    "        import pandas as pd\n",
    "        self.df = pd.read_csv(file_path)\n",
    "        self.cleaned = False\n",
    "\n",
    "    def clean(self):\n",
    "        before = len(self.df)\n",
    "        self.df.drop_duplicates(inplace=True)\n",
    "        self.df.dropna(inplace=True)\n",
    "        after = len(self.df)\n",
    "        self.cleaned = True\n",
    "        print(f\"Cleaned data: before={before} rows, after={after} rows.\")\n",
    "        return self.df\n",
    "\n",
    "    def total(self, column):\n",
    "        if column not in self.df.columns:\n",
    "            raise ValueError(f\"Column '{column}' not found in data.\")\n",
    "        return self.df[column].sum()\n",
    "\n",
    "    def build_dict(self):\n",
    "        return self.df.to_dict(orient=\"records\")\n",
    "\n",
    "processor = SalesDataProcessor('data/1000SalesRecords.csv')\n",
    "processor.clean()\n",
    "sales_dicts = processor.build_dict()\n",
    "print(sales_dicts[:3])\n",
    "total_revenue = processor.total(\"Total Revenue\")\n",
    "print(\"Total Revenue:\", total_revenue)"
   ]
  },
  {
   "cell_type": "markdown",
   "id": "20653bb8",
   "metadata": {},
   "source": [
    "## Step 4: Bulk Loaded\n",
    "Map dataframes to dictionaries"
   ]
  },
  {
   "cell_type": "code",
   "execution_count": null,
   "id": "bb813a70",
   "metadata": {},
   "outputs": [
    {
     "data": {
      "text/plain": [
       "[{'Region': 'Middle East and North Africa',\n",
       "  'Country': 'Libya',\n",
       "  'Item Type': 'Cosmetics',\n",
       "  'Sales Channel': 'Offline',\n",
       "  'Order Priority': 'M',\n",
       "  'Order Date': '10/18/2014',\n",
       "  'Order ID': 686800706,\n",
       "  'Ship Date': '10/31/2014',\n",
       "  'Units Sold': 8446,\n",
       "  'Unit Price': 437.2,\n",
       "  'Unit Cost': 263.33,\n",
       "  'Total Revenue': 3692591.2,\n",
       "  'Total Cost': 2224085.18,\n",
       "  'Total Profit': 1468506.02},\n",
       " {'Region': 'North America',\n",
       "  'Country': 'Canada',\n",
       "  'Item Type': 'Vegetables',\n",
       "  'Sales Channel': 'Online',\n",
       "  'Order Priority': 'M',\n",
       "  'Order Date': '11/7/2011',\n",
       "  'Order ID': 185941302,\n",
       "  'Ship Date': '12/8/2011',\n",
       "  'Units Sold': 3018,\n",
       "  'Unit Price': 154.06,\n",
       "  'Unit Cost': 90.93,\n",
       "  'Total Revenue': 464953.08,\n",
       "  'Total Cost': 274426.74,\n",
       "  'Total Profit': 190526.34}]"
      ]
     },
     "execution_count": 3,
     "metadata": {},
     "output_type": "execute_result"
    }
   ],
   "source": [
    "records = processor.df.to_dict(orient='records')\n",
    "records[:2]"
   ]
  },
  {
   "cell_type": "markdown",
   "id": "76c322f4",
   "metadata": {},
   "source": [
    "## Step 5: Quick Profiling"
   ]
  },
  {
   "cell_type": "code",
   "execution_count": null,
   "id": "62e7b1a0",
   "metadata": {},
   "outputs": [
    {
     "name": "stdout",
     "output_type": "stream",
     "text": [
      "Min Price: 9.33\n",
      "Mean Price: 262.10684\n",
      "Max Price: 668.27\n",
      "Unique countries: 185\n"
     ]
    }
   ],
   "source": [
    "print('Min Price:', processor.df['Unit Price'].min())\n",
    "print('Mean Price:', processor.df['Unit Price'].mean())\n",
    "print('Max Price:', processor.df['Unit Price'].max())\n",
    "print('Unique countries:', processor.df['Country'].nunique())"
   ]
  },
  {
   "cell_type": "markdown",
   "id": "556ff9a3",
   "metadata": {},
   "source": [
    "## Step 6: Spot the Grime"
   ]
  },
  {
   "cell_type": "markdown",
   "id": "a933bda3",
   "metadata": {},
   "source": [
    "Examples of dirty data:\n",
    "- Missing values in columns\n",
    "- Inconsistent date formats\n",
    "- Duplicate rows"
   ]
  },
  {
   "cell_type": "markdown",
   "id": "ff321339",
   "metadata": {},
   "source": [
    "## Step 7: Cleaning Rules"
   ]
  },
  {
   "cell_type": "code",
   "execution_count": null,
   "id": "1ba6e7f3",
   "metadata": {},
   "outputs": [],
   "source": [
    "# Already cleaned in Step 3 via processor.clean()"
   ]
  },
  {
   "cell_type": "markdown",
   "id": "fe66f9d8",
   "metadata": {},
   "source": [
    "## Step 8: Transformations"
   ]
  },
  {
   "cell_type": "code",
   "execution_count": null,
   "id": "9ddfdd6e",
   "metadata": {},
   "outputs": [
    {
     "data": {
      "application/vnd.microsoft.datawrangler.viewer.v0+json": {
       "columns": [
        {
         "name": "index",
         "rawType": "int64",
         "type": "integer"
        },
        {
         "name": "Order Priority",
         "rawType": "object",
         "type": "string"
        },
        {
         "name": "coupon_code",
         "rawType": "object",
         "type": "string"
        },
        {
         "name": "discount",
         "rawType": "float64",
         "type": "float"
        }
       ],
       "ref": "f13f1e0d-f6d8-4851-a2e3-eb7f104e49b6",
       "rows": [
        [
         "0",
         "M",
         "NONE",
         "0.0"
        ],
        [
         "1",
         "M",
         "NONE",
         "0.0"
        ],
        [
         "2",
         "C",
         "NONE",
         "0.0"
        ],
        [
         "3",
         "C",
         "NONE",
         "0.0"
        ],
        [
         "4",
         "H",
         "DISC10",
         "0.1"
        ]
       ],
       "shape": {
        "columns": 3,
        "rows": 5
       }
      },
      "text/html": [
       "<div>\n",
       "<style scoped>\n",
       "    .dataframe tbody tr th:only-of-type {\n",
       "        vertical-align: middle;\n",
       "    }\n",
       "\n",
       "    .dataframe tbody tr th {\n",
       "        vertical-align: top;\n",
       "    }\n",
       "\n",
       "    .dataframe thead th {\n",
       "        text-align: right;\n",
       "    }\n",
       "</style>\n",
       "<table border=\"1\" class=\"dataframe\">\n",
       "  <thead>\n",
       "    <tr style=\"text-align: right;\">\n",
       "      <th></th>\n",
       "      <th>Order Priority</th>\n",
       "      <th>coupon_code</th>\n",
       "      <th>discount</th>\n",
       "    </tr>\n",
       "  </thead>\n",
       "  <tbody>\n",
       "    <tr>\n",
       "      <th>0</th>\n",
       "      <td>M</td>\n",
       "      <td>NONE</td>\n",
       "      <td>0.0</td>\n",
       "    </tr>\n",
       "    <tr>\n",
       "      <th>1</th>\n",
       "      <td>M</td>\n",
       "      <td>NONE</td>\n",
       "      <td>0.0</td>\n",
       "    </tr>\n",
       "    <tr>\n",
       "      <th>2</th>\n",
       "      <td>C</td>\n",
       "      <td>NONE</td>\n",
       "      <td>0.0</td>\n",
       "    </tr>\n",
       "    <tr>\n",
       "      <th>3</th>\n",
       "      <td>C</td>\n",
       "      <td>NONE</td>\n",
       "      <td>0.0</td>\n",
       "    </tr>\n",
       "    <tr>\n",
       "      <th>4</th>\n",
       "      <td>H</td>\n",
       "      <td>DISC10</td>\n",
       "      <td>0.1</td>\n",
       "    </tr>\n",
       "  </tbody>\n",
       "</table>\n",
       "</div>"
      ],
      "text/plain": [
       "  Order Priority coupon_code  discount\n",
       "0              M        NONE       0.0\n",
       "1              M        NONE       0.0\n",
       "2              C        NONE       0.0\n",
       "3              C        NONE       0.0\n",
       "4              H      DISC10       0.1"
      ]
     },
     "execution_count": 6,
     "metadata": {},
     "output_type": "execute_result"
    }
   ],
   "source": [
    "import numpy as np\n",
    "processor.df['coupon_code'] = np.where(processor.df['Order Priority']=='H', 'DISC10', 'NONE')\n",
    "processor.df['discount'] = processor.df['coupon_code'].apply(lambda x: 0.10 if x=='DISC10' else 0)\n",
    "processor.df[['Order Priority','coupon_code','discount']].head()"
   ]
  },
  {
   "cell_type": "markdown",
   "id": "479938ae",
   "metadata": {},
   "source": [
    "## Step 9: Feature Engineering"
   ]
  },
  {
   "cell_type": "code",
   "execution_count": null,
   "id": "4f054086",
   "metadata": {},
   "outputs": [
    {
     "data": {
      "application/vnd.microsoft.datawrangler.viewer.v0+json": {
       "columns": [
        {
         "name": "index",
         "rawType": "int64",
         "type": "integer"
        },
        {
         "name": "Order Date",
         "rawType": "datetime64[ns]",
         "type": "datetime"
        },
        {
         "name": "Ship Date",
         "rawType": "datetime64[ns]",
         "type": "datetime"
        },
        {
         "name": "days_since_purchase",
         "rawType": "int64",
         "type": "integer"
        }
       ],
       "ref": "f0704ada-1988-4e93-b3e2-bf8490350c42",
       "rows": [
        [
         "0",
         "2014-10-18 00:00:00",
         "2014-10-31 00:00:00",
         "13"
        ],
        [
         "1",
         "2011-11-07 00:00:00",
         "2011-12-08 00:00:00",
         "31"
        ],
        [
         "2",
         "2016-10-31 00:00:00",
         "2016-12-09 00:00:00",
         "39"
        ],
        [
         "3",
         "2010-04-10 00:00:00",
         "2010-05-12 00:00:00",
         "32"
        ],
        [
         "4",
         "2011-08-16 00:00:00",
         "2011-08-31 00:00:00",
         "15"
        ]
       ],
       "shape": {
        "columns": 3,
        "rows": 5
       }
      },
      "text/html": [
       "<div>\n",
       "<style scoped>\n",
       "    .dataframe tbody tr th:only-of-type {\n",
       "        vertical-align: middle;\n",
       "    }\n",
       "\n",
       "    .dataframe tbody tr th {\n",
       "        vertical-align: top;\n",
       "    }\n",
       "\n",
       "    .dataframe thead th {\n",
       "        text-align: right;\n",
       "    }\n",
       "</style>\n",
       "<table border=\"1\" class=\"dataframe\">\n",
       "  <thead>\n",
       "    <tr style=\"text-align: right;\">\n",
       "      <th></th>\n",
       "      <th>Order Date</th>\n",
       "      <th>Ship Date</th>\n",
       "      <th>days_since_purchase</th>\n",
       "    </tr>\n",
       "  </thead>\n",
       "  <tbody>\n",
       "    <tr>\n",
       "      <th>0</th>\n",
       "      <td>2014-10-18</td>\n",
       "      <td>2014-10-31</td>\n",
       "      <td>13</td>\n",
       "    </tr>\n",
       "    <tr>\n",
       "      <th>1</th>\n",
       "      <td>2011-11-07</td>\n",
       "      <td>2011-12-08</td>\n",
       "      <td>31</td>\n",
       "    </tr>\n",
       "    <tr>\n",
       "      <th>2</th>\n",
       "      <td>2016-10-31</td>\n",
       "      <td>2016-12-09</td>\n",
       "      <td>39</td>\n",
       "    </tr>\n",
       "    <tr>\n",
       "      <th>3</th>\n",
       "      <td>2010-04-10</td>\n",
       "      <td>2010-05-12</td>\n",
       "      <td>32</td>\n",
       "    </tr>\n",
       "    <tr>\n",
       "      <th>4</th>\n",
       "      <td>2011-08-16</td>\n",
       "      <td>2011-08-31</td>\n",
       "      <td>15</td>\n",
       "    </tr>\n",
       "  </tbody>\n",
       "</table>\n",
       "</div>"
      ],
      "text/plain": [
       "  Order Date  Ship Date  days_since_purchase\n",
       "0 2014-10-18 2014-10-31                   13\n",
       "1 2011-11-07 2011-12-08                   31\n",
       "2 2016-10-31 2016-12-09                   39\n",
       "3 2010-04-10 2010-05-12                   32\n",
       "4 2011-08-16 2011-08-31                   15"
      ]
     },
     "execution_count": 7,
     "metadata": {},
     "output_type": "execute_result"
    }
   ],
   "source": [
    "processor.df['Order Date'] = pd.to_datetime(processor.df['Order Date'])\n",
    "processor.df['Ship Date'] = pd.to_datetime(processor.df['Ship Date'])\n",
    "processor.df['days_since_purchase'] = (processor.df['Ship Date'] - processor.df['Order Date']).dt.days\n",
    "processor.df[['Order Date','Ship Date','days_since_purchase']].head()"
   ]
  },
  {
   "cell_type": "markdown",
   "id": "32580b78",
   "metadata": {},
   "source": [
    "## Step 10: Mini-Aggregation"
   ]
  },
  {
   "cell_type": "code",
   "execution_count": null,
   "id": "3b04e196",
   "metadata": {},
   "outputs": [
    {
     "data": {
      "text/plain": [
       "{'Afghanistan': 2843589.07,\n",
       " 'Albania': 9709899.27,\n",
       " 'Algeria': 10272591.440000001,\n",
       " 'Andorra': 7153122.97,\n",
       " 'Angola': 15643032.02,\n",
       " 'Antigua and Barbuda ': 5650520.67,\n",
       " 'Armenia': 7139689.51,\n",
       " 'Australia': 3215330.16,\n",
       " 'Austria': 16199378.41,\n",
       " 'Azerbaijan': 5308405.46,\n",
       " 'Bahrain': 9022805.73,\n",
       " 'Bangladesh': 5811989.16,\n",
       " 'Barbados': 2803550.0999999996,\n",
       " 'Belarus': 13482813.12,\n",
       " 'Belgium': 9959553.530000001,\n",
       " 'Belize': 9839301.81,\n",
       " 'Benin': 9039257.06,\n",
       " 'Bhutan': 12986378.17,\n",
       " 'Bosnia and Herzegovina': 4359359.83,\n",
       " 'Botswana': 2758990.99,\n",
       " 'Brunei': 2702495.8899999997,\n",
       " 'Bulgaria': 5430330.5600000005,\n",
       " 'Burkina Faso': 3779357.44,\n",
       " 'Burundi': 7032758.550000001,\n",
       " 'Cambodia': 4642313.7,\n",
       " 'Cameroon': 95209.92,\n",
       " 'Canada': 1226103.3,\n",
       " 'Cape Verde': 3629118.65,\n",
       " 'Central African Republic': 16591036.850000001,\n",
       " 'Chad': 17278040.69,\n",
       " 'China': 10272536.76,\n",
       " 'Comoros': 8999886.92,\n",
       " 'Costa Rica': 19628279.63,\n",
       " \"Cote d'Ivoire\": 5121515.92,\n",
       " 'Croatia': 941892.69,\n",
       " 'Cuba': 27522085.87,\n",
       " 'Cyprus': 5502527.890000001,\n",
       " 'Czech Republic': 15603240.11,\n",
       " 'Democratic Republic of the Congo': 5999548.38,\n",
       " 'Denmark': 260832.65,\n",
       " 'Djibouti': 7896155.06,\n",
       " 'Dominica': 882189.76,\n",
       " 'Dominican Republic': 10068140.14,\n",
       " 'East Timor': 6286071.319999999,\n",
       " 'Egypt': 8143736.89,\n",
       " 'El Salvador': 1686991.5299999998,\n",
       " 'Equatorial Guinea': 7753130.1,\n",
       " 'Eritrea': 1474455.62,\n",
       " 'Estonia': 7873109.81,\n",
       " 'Ethiopia': 4632012.47,\n",
       " 'Federated States of Micronesia': 471158.71,\n",
       " 'Fiji': 4992255.6,\n",
       " 'Finland': 9668457.12,\n",
       " 'France': 1009016.03,\n",
       " 'Gabon': 7350658.56,\n",
       " 'Georgia': 12197986.98,\n",
       " 'Germany': 14150892.19,\n",
       " 'Ghana': 21267908.5,\n",
       " 'Greece': 5965376.9,\n",
       " 'Greenland': 9953334.49,\n",
       " 'Grenada': 2963196.96,\n",
       " 'Guatemala': 8701213.81,\n",
       " 'Guinea': 9896306.25,\n",
       " 'Guinea-Bissau': 6512548.69,\n",
       " 'Haiti': 3472696.8299999996,\n",
       " 'Honduras': 7299060.35,\n",
       " 'Hungary': 8275573.91,\n",
       " 'Iceland': 5783631.18,\n",
       " 'India': 6767869.549999999,\n",
       " 'Indonesia': 1972317.35,\n",
       " 'Iran': 18719532.990000002,\n",
       " 'Iraq': 4781813.25,\n",
       " 'Ireland': 14070575.29,\n",
       " 'Israel': 3265587.1500000004,\n",
       " 'Italy': 8042108.55,\n",
       " 'Jamaica': 781659.1699999999,\n",
       " 'Japan': 11883719.65,\n",
       " 'Jordan': 11956362.24,\n",
       " 'Kazakhstan': 715717.14,\n",
       " 'Kenya': 9138321.08,\n",
       " 'Kiribati': 4744159.33,\n",
       " 'Kosovo': 956534.16,\n",
       " 'Kuwait': 5724038.66,\n",
       " 'Kyrgyzstan': 2132326.5199999996,\n",
       " 'Laos': 2226896.6,\n",
       " 'Latvia': 566096.65,\n",
       " 'Lebanon': 13356289.44,\n",
       " 'Lesotho': 9349544.030000001,\n",
       " 'Liberia': 4401652.9399999995,\n",
       " 'Libya': 6100113.66,\n",
       " 'Liechtenstein': 7184947.83,\n",
       " 'Lithuania': 7830091.32,\n",
       " 'Luxembourg': 12231206.91,\n",
       " 'Macedonia': 2478469.5,\n",
       " 'Madagascar': 3061002.8000000003,\n",
       " 'Malawi': 10722230.08,\n",
       " 'Malaysia': 16416989.18,\n",
       " 'Maldives': 7639004.44,\n",
       " 'Mali': 9088046.780000001,\n",
       " 'Malta': 3731064.8,\n",
       " 'Marshall Islands': 2525007.5,\n",
       " 'Mauritania': 6825381.02,\n",
       " 'Mauritius ': 5649551.29,\n",
       " 'Mexico': 1854866.4,\n",
       " 'Moldova ': 10971921.52,\n",
       " 'Monaco': 5541658.84,\n",
       " 'Mongolia': 10143794.91,\n",
       " 'Montenegro': 2856171.02,\n",
       " 'Morocco': 9937837.48,\n",
       " 'Mozambique': 9093023.98,\n",
       " 'Myanmar': 3596431.8499999996,\n",
       " 'Namibia': 4790409.36,\n",
       " 'Nauru': 1225622.72,\n",
       " 'Nepal': 3838301.2800000003,\n",
       " 'Netherlands': 8988630.52,\n",
       " 'New Zealand': 11723675.56,\n",
       " 'Nicaragua': 2159493.83,\n",
       " 'Niger': 12738142.620000001,\n",
       " 'Nigeria': 2053657.9900000002,\n",
       " 'North Korea': 8665953.92,\n",
       " 'Norway': 6919276.23,\n",
       " 'Oman': 4702742.25,\n",
       " 'Pakistan': 4396334.96,\n",
       " 'Palau': 7935532.95,\n",
       " 'Panama': 13126867.8,\n",
       " 'Papua New Guinea': 22209652.47,\n",
       " 'Philippines': 2511823.08,\n",
       " 'Poland': 13607288.51,\n",
       " 'Portugal': 15884378.55,\n",
       " 'Qatar': 10303688.34,\n",
       " 'Republic of the Congo': 4243168.9399999995,\n",
       " 'Romania': 10877716.39,\n",
       " 'Russia': 2965463.2199999997,\n",
       " 'Rwanda': 4984069.1899999995,\n",
       " 'Saint Kitts and Nevis ': 4783484.5200000005,\n",
       " 'Saint Lucia': 6358448.6,\n",
       " 'Saint Vincent and the Grenadines': 943721.7000000001,\n",
       " 'Samoa ': 2625265.8499999996,\n",
       " 'San Marino': 1412469.13,\n",
       " 'Sao Tome and Principe': 6662225.65,\n",
       " 'Saudi Arabia': 4083970.71,\n",
       " 'Senegal': 8204766.32,\n",
       " 'Serbia': 5895768.83,\n",
       " 'Seychelles ': 6980875.62,\n",
       " 'Sierra Leone': 6793129.51,\n",
       " 'Singapore': 3894250.85,\n",
       " 'Slovakia': 4503076.26,\n",
       " 'Slovenia': 6768172.96,\n",
       " 'Solomon Islands': 5148883.07,\n",
       " 'Somalia': 4375138.01,\n",
       " 'South Africa': 11920602.36,\n",
       " 'South Korea': 2042242.6999999997,\n",
       " 'South Sudan': 12890088.98,\n",
       " 'Spain': 8288153.29,\n",
       " 'Sri Lanka': 7331133.92,\n",
       " 'Sudan': 9824498.98,\n",
       " 'Swaziland': 12845719.41,\n",
       " 'Sweden': 10324874.87,\n",
       " 'Switzerland': 5483183.149999999,\n",
       " 'Syria': 5345650.850000001,\n",
       " 'Taiwan': 4504146.65,\n",
       " 'Tajikistan': 4340537.42,\n",
       " 'Tanzania': 6794687.029999999,\n",
       " 'Thailand': 3619609.81,\n",
       " 'The Bahamas': 8824492.76,\n",
       " 'The Gambia': 1898327.32,\n",
       " 'Togo': 1734332.62,\n",
       " 'Tonga': 11821702.0,\n",
       " 'Trinidad and Tobago': 6502214.669999999,\n",
       " 'Tunisia ': 7835941.77,\n",
       " 'Turkey': 10225728.209999999,\n",
       " 'Turkmenistan': 3715458.7199999997,\n",
       " 'Tuvalu': 4753453.5200000005,\n",
       " 'Uganda': 2402771.36,\n",
       " 'Ukraine': 6640695.22,\n",
       " 'United Arab Emirates': 2591172.23,\n",
       " 'United Kingdom': 5905405.47,\n",
       " 'United States of America': 11927294.75,\n",
       " 'Uzbekistan': 11632538.02,\n",
       " 'Vanuatu': 16011801.84,\n",
       " 'Vatican City': 1575379.28,\n",
       " 'Vietnam': 11668032.25,\n",
       " 'Yemen': 11813464.95,\n",
       " 'Zambia': 1954116.2,\n",
       " 'Zimbabwe': 6928978.02}"
      ]
     },
     "execution_count": 8,
     "metadata": {},
     "output_type": "execute_result"
    }
   ],
   "source": [
    "revenue_per_country = processor.df.groupby('Country')['Total Revenue'].sum().to_dict()\n",
    "revenue_per_country"
   ]
  },
  {
   "cell_type": "markdown",
   "id": "94a92b8d",
   "metadata": {},
   "source": [
    "## Step 11: Serialization Checkpoint"
   ]
  },
  {
   "cell_type": "code",
   "execution_count": null,
   "id": "6a00ff30",
   "metadata": {},
   "outputs": [
    {
     "name": "stdout",
     "output_type": "stream",
     "text": [
      "Files saved.\n"
     ]
    }
   ],
   "source": [
    "processor.df.to_json('data/outputs/json/cleaned_sales.json', orient='records')\n",
    "processor.df.to_csv('data/outputs/csv/cleaned_sales.csv', index=False)\n",
    "print('Files saved.')"
   ]
  },
  {
   "cell_type": "markdown",
   "id": "b87ae31b",
   "metadata": {},
   "source": [
    "## Step 12: Soft Interview Reflection"
   ]
  },
  {
   "cell_type": "markdown",
   "id": "2ab47fa9",
   "metadata": {},
   "source": [
    "Functions and classes help by modularizing data processing. They reduce duplication, improve readability, and make debugging easier. \n",
    "Encapsulating cleaning, transformations, and profiling logic into a class makes the project reusable, extendable, and maintainable."
   ]
  },
  {
   "cell_type": "markdown",
   "metadata": {},
   "source": [
    "## Data Dictionary Section"
   ]
  },
  {
   "cell_type": "markdown",
   "metadata": {},
   "source": [
    "| Field | Type | Description | Source |\n",
    "|-------|------|-------------|--------|\n",
    "| Region | string | Sales region | Primary CSV |\n",
    "| Country | string | Customer country | Primary CSV |\n",
    "| Item Type | string | Product category | Primary CSV |\n",
    "| Sales Channel | string | Online/Offline channel | Primary CSV |\n",
    "| Order Date | date | Order placement date | Primary CSV |\n",
    "| Ship Date | date | Order shipment date | Primary CSV |\n",
    "| Units Sold | int | Number of units sold | Primary CSV |\n",
    "| Unit Price | float | Price per unit | Primary CSV |\n",
    "| Total Revenue | float | Units * Unit Price | Primary CSV |\n",
    "| coupon_code | string | Applied coupon | Synthetic |\n",
    "| discount | float | Numeric discount | Transformation |\n",
    "| days_since_purchase | int | Derived shipping lag | Engineered |\n",
    "| product_name | string | Product name | Secondary catalogue |\n",
    "| description | string | Product description | Secondary catalogue |"
   ]
  }
 ],
 "metadata": {
  "kernelspec": {
   "display_name": "Python 3",
   "language": "python",
   "name": "python3"
  }
 },
 "nbformat": 4,
 "nbformat_minor": 5
}
