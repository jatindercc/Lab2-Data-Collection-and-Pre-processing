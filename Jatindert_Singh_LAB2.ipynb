{
 "cells": [
  {
   "cell_type": "markdown",
   "metadata": {},
   "source": ["## Step 1: Hello, Data!\nLoad raw CSV, display first 3 rows"]
  },
  {
   "cell_type": "code",
   "execution_count": null,
   "metadata": {},
   "outputs": [],
   "source": [
    "import pandas as pd\n",
    "df = pd.read_csv('data/1000SalesRecords.csv')\n",
    "df.head(3)"
   ]
  },
  {
   "cell_type": "markdown",
   "metadata": {},
   "source": ["## Step 2: Pick the Right Container\nJustify dict vs namedtuple vs sets"]
  },
  {
   "cell_type": "markdown",
   "metadata": {},
   "source": [
    "We will use **dict** because it provides key-value mapping and is flexible for transformations. ",
    "Namedtuple is immutable and sets only hold unique values without context."
   ]
  },
  {
   "cell_type": "markdown",
   "metadata": {},
   "source": ["## Step 3: Implement Functions and Data Structure"]
  },
  {
   "cell_type": "code",
   "execution_count": null,
   "metadata": {},
   "outputs": [],
   "source": [
    "def build_sales_dict(row):\n",
    "    return {\n",
    "        'Region': row['Region'],\n",
    "        'Country': row['Country'],\n",
    "        'Item': row['Item Type'],\n",
    "        'Revenue': row['Total Revenue']\n",
    "    }\n",
    "\n",
    "sales_dicts = df.head(5).apply(build_sales_dict, axis=1).tolist()\n",
    "sales_dicts"
   ]
  },
  {
   "cell_type": "markdown",
   "metadata": {},
   "source": ["## Step 4: Bulk Loaded\nMap dataframes to dictionaries"]
  },
  {
   "cell_type": "code",
   "execution_count": null,
   "metadata": {},
   "outputs": [],
   "source": ["records = df.to_dict(orient='records')\nrecords[:2]"]
  },
  {
   "cell_type": "markdown",
   "metadata": {},
   "source": ["## Step 5: Quick Profiling"]
  },
  {
   "cell_type": "code",
   "execution_count": null,
   "metadata": {},
   "outputs": [],
   "source": [
    "print('Min Price:', df['Unit Price'].min())\n",
    "print('Mean Price:', df['Unit Price'].mean())\n",
    "print('Max Price:', df['Unit Price'].max())\n",
    "print('Unique countries:', df['Country'].nunique())"
   ]
  },
  {
   "cell_type": "markdown",
   "metadata": {},
   "source": ["## Step 6: Spot the Grime"]
  },
  {
   "cell_type": "markdown",
   "metadata": {},
   "source": [
    "Examples of dirty data:\n",
    "- Missing values in columns\n",
    "- Inconsistent date formats\n",
    "- Duplicate rows"
   ]
  },
  {
   "cell_type": "markdown",
   "metadata": {},
   "source": ["## Step 7: Cleaning Rules"]
  },
  {
   "cell_type": "code",
   "execution_count": null,
   "metadata": {},
   "outputs": [],
   "source": [
    "def clean(df):\n",
    "    before = len(df)\n",
    "    df = df.drop_duplicates()\n",
    "    df = df.dropna()\n",
    "    after = len(df)\n",
    "    print('Before:', before, 'After:', after)\n",
    "    return df\n",
    "\n",
    "df = clean(df)"
   ]
  },
  {
   "cell_type": "markdown",
   "metadata": {},
   "source": ["## Step 8: Transformations"]
  },
  {
   "cell_type": "code",
   "execution_count": null,
   "metadata": {},
   "outputs": [],
   "source": [
    "import numpy as np\n",
    "df['coupon_code'] = np.where(df['Order Priority']=='H', 'DISC10', 'NONE')\n",
    "df['discount'] = df['coupon_code'].apply(lambda x: 0.10 if x=='DISC10' else 0)\n",
    "df[['Order Priority','coupon_code','discount']].head()"
   ]
  },
  {
   "cell_type": "markdown",
   "metadata": {},
   "source": ["## Step 9: Feature Engineering"]
  },
  {
   "cell_type": "code",
   "execution_count": null,
   "metadata": {},
   "outputs": [],
   "source": [
    "df['Order Date'] = pd.to_datetime(df['Order Date'])\n",
    "df['Ship Date'] = pd.to_datetime(df['Ship Date'])\n",
    "df['days_since_purchase'] = (df['Ship Date'] - df['Order Date']).dt.days\n",
    "df[['Order Date','Ship Date','days_since_purchase']].head()"
   ]
  },
  {
   "cell_type": "markdown",
   "metadata": {},
   "source": ["## Step 10: Mini-Aggregation"]
  },
  {
   "cell_type": "code",
   "execution_count": null,
   "metadata": {},
   "outputs": [],
   "source": [
    "revenue_per_country = df.groupby('Country')['Total Revenue'].sum().to_dict()\n",
    "revenue_per_country"
   ]
  },
  {
   "cell_type": "markdown",
   "metadata": {},
   "source": ["## Step 11: Serialization Checkpoint"]
  },
  {
   "cell_type": "code",
   "execution_count": null,
   "metadata": {},
   "outputs": [],
   "source": [
    "df.to_json('data/outputs/json/cleaned_sales.json', orient='records')\n",
    "df.to_csv('data/outputs/csv/cleaned_sales.csv', index=False)\n",
    "print('Files saved.')"
   ]
  },
  {
   "cell_type": "markdown",
   "metadata": {},
   "source": ["## Step 12: Soft Interview Reflection"]
  },
  {
   "cell_type": "markdown",
   "metadata": {},
   "source": [
    "Functions help by modularizing data processing. They reduce duplication, improve readability, and make debugging easier. ",
    "With functions, we can encapsulate cleaning, transformations, and profiling logic in reusable units. ",
    "This improves productivity and ensures consistency across the project."
   ]
  },
  {
   "cell_type": "markdown",
   "metadata": {},
   "source": ["## Data Dictionary Section"]
  },
  {
   "cell_type": "markdown",
   "metadata": {},
   "source": [
    "| Field | Type | Description | Source |\n",
    "|-------|------|-------------|--------|\n",
    "| Region | string | Sales region | Primary CSV |\n",
    "| Country | string | Customer country | Primary CSV |\n",
    "| Item Type | string | Product category | Primary CSV |\n",
    "| Sales Channel | string | Online/Offline channel | Primary CSV |\n",
    "| Order Date | date | Order placement date | Primary CSV |\n",
    "| Ship Date | date | Order shipment date | Primary CSV |\n",
    "| Units Sold | int | Number of units sold | Primary CSV |\n",
    "| Unit Price | float | Price per unit | Primary CSV |\n",
    "| Total Revenue | float | Units * Unit Price | Primary CSV |\n",
    "| coupon_code | string | Applied coupon | Synthetic |\n",
    "| discount | float | Numeric discount | Transformation |\n",
    "| days_since_purchase | int | Derived shipping lag | Engineered |\n",
    "| product_name | string | Product name | Secondary catalogue |\n",
    "| description | string | Product description | Secondary catalogue |"
   ]
  }
 ],
 "metadata": {
  "kernelspec": {
   "display_name": "Python 3",
   "language": "python",
   "name": "python3"
  }
 },
 "nbformat": 4,
 "nbformat_minor": 5
}
