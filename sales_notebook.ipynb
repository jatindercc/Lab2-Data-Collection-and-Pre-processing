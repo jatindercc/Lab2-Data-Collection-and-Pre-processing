{
 "cells": [
  {
   "cell_type": "markdown",
   "metadata": {},
   "source": [
    "## Step 1: Hello, Data!\n",
    "Load raw CSV, display first 3 rows"
   ]
  },
  {
   "cell_type": "code",
   "execution_count": 1,
   "metadata": {},
   "outputs": [
    {
     "data": {
      "application/vnd.microsoft.datawrangler.viewer.v0+json": {
       "columns": [
        {
         "name": "index",
         "rawType": "int64",
         "type": "integer"
        },
        {
         "name": "Region",
         "rawType": "object",
         "type": "string"
        },
        {
         "name": "Country",
         "rawType": "object",
         "type": "string"
        },
        {
         "name": "Item Type",
         "rawType": "object",
         "type": "string"
        },
        {
         "name": "Sales Channel",
         "rawType": "object",
         "type": "string"
        },
        {
         "name": "Order Priority",
         "rawType": "object",
         "type": "string"
        },
        {
         "name": "Order Date",
         "rawType": "object",
         "type": "string"
        },
        {
         "name": "Order ID",
         "rawType": "int64",
         "type": "integer"
        },
        {
         "name": "Ship Date",
         "rawType": "object",
         "type": "string"
        },
        {
         "name": "Units Sold",
         "rawType": "int64",
         "type": "integer"
        },
        {
         "name": "Unit Price",
         "rawType": "float64",
         "type": "float"
        },
        {
         "name": "Unit Cost",
         "rawType": "float64",
         "type": "float"
        },
        {
         "name": "Total Revenue",
         "rawType": "float64",
         "type": "float"
        },
        {
         "name": "Total Cost",
         "rawType": "float64",
         "type": "float"
        },
        {
         "name": "Total Profit",
         "rawType": "float64",
         "type": "float"
        }
       ],
       "ref": "7429e2c0-18e2-40cc-8859-85117eed4001",
       "rows": [
        [
         "0",
         "Middle East and North Africa",
         "Libya",
         "Cosmetics",
         "Offline",
         "M",
         "10/18/2014",
         "686800706",
         "10/31/2014",
         "8446",
         "437.2",
         "263.33",
         "3692591.2",
         "2224085.18",
         "1468506.02"
        ],
        [
         "1",
         "North America",
         "Canada",
         "Vegetables",
         "Online",
         "M",
         "11/7/2011",
         "185941302",
         "12/8/2011",
         "3018",
         "154.06",
         "90.93",
         "464953.08",
         "274426.74",
         "190526.34"
        ],
        [
         "2",
         "Middle East and North Africa",
         "Libya",
         "Baby Food",
         "Offline",
         "C",
         "10/31/2016",
         "246222341",
         "12/9/2016",
         "1517",
         "255.28",
         "159.42",
         "387259.76",
         "241840.14",
         "145419.62"
        ]
       ],
       "shape": {
        "columns": 14,
        "rows": 3
       }
      },
      "text/html": [
       "<div>\n",
       "<style scoped>\n",
       "    .dataframe tbody tr th:only-of-type {\n",
       "        vertical-align: middle;\n",
       "    }\n",
       "\n",
       "    .dataframe tbody tr th {\n",
       "        vertical-align: top;\n",
       "    }\n",
       "\n",
       "    .dataframe thead th {\n",
       "        text-align: right;\n",
       "    }\n",
       "</style>\n",
       "<table border=\"1\" class=\"dataframe\">\n",
       "  <thead>\n",
       "    <tr style=\"text-align: right;\">\n",
       "      <th></th>\n",
       "      <th>Region</th>\n",
       "      <th>Country</th>\n",
       "      <th>Item Type</th>\n",
       "      <th>Sales Channel</th>\n",
       "      <th>Order Priority</th>\n",
       "      <th>Order Date</th>\n",
       "      <th>Order ID</th>\n",
       "      <th>Ship Date</th>\n",
       "      <th>Units Sold</th>\n",
       "      <th>Unit Price</th>\n",
       "      <th>Unit Cost</th>\n",
       "      <th>Total Revenue</th>\n",
       "      <th>Total Cost</th>\n",
       "      <th>Total Profit</th>\n",
       "    </tr>\n",
       "  </thead>\n",
       "  <tbody>\n",
       "    <tr>\n",
       "      <th>0</th>\n",
       "      <td>Middle East and North Africa</td>\n",
       "      <td>Libya</td>\n",
       "      <td>Cosmetics</td>\n",
       "      <td>Offline</td>\n",
       "      <td>M</td>\n",
       "      <td>10/18/2014</td>\n",
       "      <td>686800706</td>\n",
       "      <td>10/31/2014</td>\n",
       "      <td>8446</td>\n",
       "      <td>437.20</td>\n",
       "      <td>263.33</td>\n",
       "      <td>3692591.20</td>\n",
       "      <td>2224085.18</td>\n",
       "      <td>1468506.02</td>\n",
       "    </tr>\n",
       "    <tr>\n",
       "      <th>1</th>\n",
       "      <td>North America</td>\n",
       "      <td>Canada</td>\n",
       "      <td>Vegetables</td>\n",
       "      <td>Online</td>\n",
       "      <td>M</td>\n",
       "      <td>11/7/2011</td>\n",
       "      <td>185941302</td>\n",
       "      <td>12/8/2011</td>\n",
       "      <td>3018</td>\n",
       "      <td>154.06</td>\n",
       "      <td>90.93</td>\n",
       "      <td>464953.08</td>\n",
       "      <td>274426.74</td>\n",
       "      <td>190526.34</td>\n",
       "    </tr>\n",
       "    <tr>\n",
       "      <th>2</th>\n",
       "      <td>Middle East and North Africa</td>\n",
       "      <td>Libya</td>\n",
       "      <td>Baby Food</td>\n",
       "      <td>Offline</td>\n",
       "      <td>C</td>\n",
       "      <td>10/31/2016</td>\n",
       "      <td>246222341</td>\n",
       "      <td>12/9/2016</td>\n",
       "      <td>1517</td>\n",
       "      <td>255.28</td>\n",
       "      <td>159.42</td>\n",
       "      <td>387259.76</td>\n",
       "      <td>241840.14</td>\n",
       "      <td>145419.62</td>\n",
       "    </tr>\n",
       "  </tbody>\n",
       "</table>\n",
       "</div>"
      ],
      "text/plain": [
       "                         Region Country   Item Type Sales Channel  \\\n",
       "0  Middle East and North Africa   Libya   Cosmetics       Offline   \n",
       "1                 North America  Canada  Vegetables        Online   \n",
       "2  Middle East and North Africa   Libya   Baby Food       Offline   \n",
       "\n",
       "  Order Priority  Order Date   Order ID   Ship Date  Units Sold  Unit Price  \\\n",
       "0              M  10/18/2014  686800706  10/31/2014        8446      437.20   \n",
       "1              M   11/7/2011  185941302   12/8/2011        3018      154.06   \n",
       "2              C  10/31/2016  246222341   12/9/2016        1517      255.28   \n",
       "\n",
       "   Unit Cost  Total Revenue  Total Cost  Total Profit  \n",
       "0     263.33     3692591.20  2224085.18    1468506.02  \n",
       "1      90.93      464953.08   274426.74     190526.34  \n",
       "2     159.42      387259.76   241840.14     145419.62  "
      ]
     },
     "execution_count": 1,
     "metadata": {},
     "output_type": "execute_result"
    }
   ],
   "source": [
    "import pandas as pd\n",
    "df = pd.read_csv('data/1000SalesRecords.csv')\n",
    "df.head(3)"
   ]
  },
  {
   "cell_type": "markdown",
   "metadata": {},
   "source": [
    "## Step 2: Pick the Right Container\n",
    "Dictionaries are more flexible for mapping keys (like Order ID ➞ record). Namedtuples are lightweight but less flexible for transformations. Sets are best when we only need uniqueness (e.g., unique cities)."
   ]
  },
  {
   "cell_type": "markdown",
   "metadata": {},
   "source": [
    "## Step 3: Implement Functions and Data Structure"
   ]
  },
  {
   "cell_type": "code",
   "execution_count": 2,
   "metadata": {},
   "outputs": [
    {
     "data": {
      "text/plain": [
       "[{'order_id': 686800706,\n",
       "  'country': 'Libya',\n",
       "  'item': 'Cosmetics',\n",
       "  'units_sold': 8446,\n",
       "  'total_revenue': 3692591.2},\n",
       " {'order_id': 185941302,\n",
       "  'country': 'Canada',\n",
       "  'item': 'Vegetables',\n",
       "  'units_sold': 3018,\n",
       "  'total_revenue': 464953.08},\n",
       " {'order_id': 246222341,\n",
       "  'country': 'Libya',\n",
       "  'item': 'Baby Food',\n",
       "  'units_sold': 1517,\n",
       "  'total_revenue': 387259.76},\n",
       " {'order_id': 161442649,\n",
       "  'country': 'Japan',\n",
       "  'item': 'Cereal',\n",
       "  'units_sold': 3322,\n",
       "  'total_revenue': 683335.4},\n",
       " {'order_id': 645713555,\n",
       "  'country': 'Chad',\n",
       "  'item': 'Fruits',\n",
       "  'units_sold': 9845,\n",
       "  'total_revenue': 91853.85}]"
      ]
     },
     "execution_count": 2,
     "metadata": {},
     "output_type": "execute_result"
    }
   ],
   "source": [
    "def build_order_dict(row):\n",
    "    return {\n",
    "        'order_id': row['Order ID'],\n",
    "        'country': row['Country'],\n",
    "        'item': row['Item Type'],\n",
    "        'units_sold': row['Units Sold'],\n",
    "        'total_revenue': row['Total Revenue']\n",
    "    }\n",
    "\n",
    "order_dicts = df.head(5).apply(build_order_dict, axis=1).tolist()\n",
    "order_dicts"
   ]
  },
  {
   "cell_type": "markdown",
   "metadata": {},
   "source": [
    "## Step 4: Bulk Loaded\n",
    "Map DataFrame rows into dictionaries"
   ]
  },
  {
   "cell_type": "code",
   "execution_count": 3,
   "metadata": {},
   "outputs": [
    {
     "data": {
      "text/plain": [
       "1000"
      ]
     },
     "execution_count": 3,
     "metadata": {},
     "output_type": "execute_result"
    }
   ],
   "source": [
    "orders = df.apply(build_order_dict, axis=1).tolist()\n",
    "len(orders)"
   ]
  },
  {
   "cell_type": "markdown",
   "metadata": {},
   "source": [
    "## Step 5: Quick Profiling"
   ]
  },
  {
   "cell_type": "code",
   "execution_count": 4,
   "metadata": {},
   "outputs": [
    {
     "data": {
      "text/plain": [
       "(np.float64(9.33), np.float64(262.10684), np.float64(668.27), 185)"
      ]
     },
     "execution_count": 4,
     "metadata": {},
     "output_type": "execute_result"
    }
   ],
   "source": [
    "min_price = df['Unit Price'].min()\n",
    "max_price = df['Unit Price'].max()\n",
    "mean_price = df['Unit Price'].mean()\n",
    "unique_cities = len(set(df['Country']))\n",
    "min_price, mean_price, max_price, unique_cities"
   ]
  },
  {
   "cell_type": "markdown",
   "metadata": {},
   "source": [
    "## Step 6: Spot the Grime\n",
    "- Missing or blank values\n",
    "- Inconsistent date formats\n",
    "- Negative or zero units sold\n"
   ]
  },
  {
   "cell_type": "markdown",
   "metadata": {},
   "source": [
    "## Step 7: Cleaning Rules"
   ]
  },
  {
   "cell_type": "code",
   "execution_count": 5,
   "metadata": {},
   "outputs": [
    {
     "data": {
      "text/plain": [
       "(1000, 1000)"
      ]
     },
     "execution_count": 5,
     "metadata": {},
     "output_type": "execute_result"
    }
   ],
   "source": [
    "def clean(df):\n",
    "    before = len(df)\n",
    "    df = df.dropna()\n",
    "    df = df[df['Units Sold'] > 0]\n",
    "    after = len(df)\n",
    "    return df, before, after\n",
    "\n",
    "df_clean, before, after = clean(df)\n",
    "before, after"
   ]
  },
  {
   "cell_type": "markdown",
   "metadata": {},
   "source": [
    "## Step 8: Transformations"
   ]
  },
  {
   "cell_type": "code",
   "execution_count": 6,
   "metadata": {},
   "outputs": [
    {
     "data": {
      "application/vnd.microsoft.datawrangler.viewer.v0+json": {
       "columns": [
        {
         "name": "index",
         "rawType": "int64",
         "type": "integer"
        },
        {
         "name": "coupon_code",
         "rawType": "object",
         "type": "string"
        },
        {
         "name": "discount_percent",
         "rawType": "int64",
         "type": "integer"
        }
       ],
       "ref": "7b428943-44ad-4b8d-aca8-d8ed0b6239b0",
       "rows": [
        [
         "0",
         "NONE",
         "0"
        ],
        [
         "1",
         "NONE",
         "0"
        ],
        [
         "2",
         "NONE",
         "0"
        ],
        [
         "3",
         "NONE",
         "0"
        ],
        [
         "4",
         "DISC10",
         "10"
        ]
       ],
       "shape": {
        "columns": 2,
        "rows": 5
       }
      },
      "text/html": [
       "<div>\n",
       "<style scoped>\n",
       "    .dataframe tbody tr th:only-of-type {\n",
       "        vertical-align: middle;\n",
       "    }\n",
       "\n",
       "    .dataframe tbody tr th {\n",
       "        vertical-align: top;\n",
       "    }\n",
       "\n",
       "    .dataframe thead th {\n",
       "        text-align: right;\n",
       "    }\n",
       "</style>\n",
       "<table border=\"1\" class=\"dataframe\">\n",
       "  <thead>\n",
       "    <tr style=\"text-align: right;\">\n",
       "      <th></th>\n",
       "      <th>coupon_code</th>\n",
       "      <th>discount_percent</th>\n",
       "    </tr>\n",
       "  </thead>\n",
       "  <tbody>\n",
       "    <tr>\n",
       "      <th>0</th>\n",
       "      <td>NONE</td>\n",
       "      <td>0</td>\n",
       "    </tr>\n",
       "    <tr>\n",
       "      <th>1</th>\n",
       "      <td>NONE</td>\n",
       "      <td>0</td>\n",
       "    </tr>\n",
       "    <tr>\n",
       "      <th>2</th>\n",
       "      <td>NONE</td>\n",
       "      <td>0</td>\n",
       "    </tr>\n",
       "    <tr>\n",
       "      <th>3</th>\n",
       "      <td>NONE</td>\n",
       "      <td>0</td>\n",
       "    </tr>\n",
       "    <tr>\n",
       "      <th>4</th>\n",
       "      <td>DISC10</td>\n",
       "      <td>10</td>\n",
       "    </tr>\n",
       "  </tbody>\n",
       "</table>\n",
       "</div>"
      ],
      "text/plain": [
       "  coupon_code  discount_percent\n",
       "0        NONE                 0\n",
       "1        NONE                 0\n",
       "2        NONE                 0\n",
       "3        NONE                 0\n",
       "4      DISC10                10"
      ]
     },
     "execution_count": 6,
     "metadata": {},
     "output_type": "execute_result"
    }
   ],
   "source": [
    "# Example: Suppose coupon_code column exists\n",
    "import numpy as np\n",
    "if 'coupon_code' not in df_clean.columns:\n",
    "    df_clean['coupon_code'] = np.where(df_clean['Order Priority']=='H','DISC10','NONE')\n",
    "\n",
    "def parse_coupon(code):\n",
    "    if code.startswith('DISC'):\n",
    "        return int(code.replace('DISC',''))\n",
    "    return 0\n",
    "\n",
    "df_clean['discount_percent'] = df_clean['coupon_code'].apply(parse_coupon)\n",
    "df_clean[['coupon_code','discount_percent']].head()"
   ]
  },
  {
   "cell_type": "markdown",
   "metadata": {},
   "source": [
    "## Step 9: Feature Engineering"
   ]
  },
  {
   "cell_type": "code",
   "execution_count": 7,
   "metadata": {},
   "outputs": [
    {
     "data": {
      "application/vnd.microsoft.datawrangler.viewer.v0+json": {
       "columns": [
        {
         "name": "index",
         "rawType": "int64",
         "type": "integer"
        },
        {
         "name": "Order ID",
         "rawType": "int64",
         "type": "integer"
        },
        {
         "name": "days_since_purchase",
         "rawType": "int64",
         "type": "integer"
        }
       ],
       "ref": "82e6c33d-40fd-410e-903c-748251af7322",
       "rows": [
        [
         "0",
         "686800706",
         "13"
        ],
        [
         "1",
         "185941302",
         "31"
        ],
        [
         "2",
         "246222341",
         "39"
        ],
        [
         "3",
         "161442649",
         "32"
        ],
        [
         "4",
         "645713555",
         "15"
        ]
       ],
       "shape": {
        "columns": 2,
        "rows": 5
       }
      },
      "text/html": [
       "<div>\n",
       "<style scoped>\n",
       "    .dataframe tbody tr th:only-of-type {\n",
       "        vertical-align: middle;\n",
       "    }\n",
       "\n",
       "    .dataframe tbody tr th {\n",
       "        vertical-align: top;\n",
       "    }\n",
       "\n",
       "    .dataframe thead th {\n",
       "        text-align: right;\n",
       "    }\n",
       "</style>\n",
       "<table border=\"1\" class=\"dataframe\">\n",
       "  <thead>\n",
       "    <tr style=\"text-align: right;\">\n",
       "      <th></th>\n",
       "      <th>Order ID</th>\n",
       "      <th>days_since_purchase</th>\n",
       "    </tr>\n",
       "  </thead>\n",
       "  <tbody>\n",
       "    <tr>\n",
       "      <th>0</th>\n",
       "      <td>686800706</td>\n",
       "      <td>13</td>\n",
       "    </tr>\n",
       "    <tr>\n",
       "      <th>1</th>\n",
       "      <td>185941302</td>\n",
       "      <td>31</td>\n",
       "    </tr>\n",
       "    <tr>\n",
       "      <th>2</th>\n",
       "      <td>246222341</td>\n",
       "      <td>39</td>\n",
       "    </tr>\n",
       "    <tr>\n",
       "      <th>3</th>\n",
       "      <td>161442649</td>\n",
       "      <td>32</td>\n",
       "    </tr>\n",
       "    <tr>\n",
       "      <th>4</th>\n",
       "      <td>645713555</td>\n",
       "      <td>15</td>\n",
       "    </tr>\n",
       "  </tbody>\n",
       "</table>\n",
       "</div>"
      ],
      "text/plain": [
       "    Order ID  days_since_purchase\n",
       "0  686800706                   13\n",
       "1  185941302                   31\n",
       "2  246222341                   39\n",
       "3  161442649                   32\n",
       "4  645713555                   15"
      ]
     },
     "execution_count": 7,
     "metadata": {},
     "output_type": "execute_result"
    }
   ],
   "source": [
    "df_clean['Order Date'] = pd.to_datetime(df_clean['Order Date'])\n",
    "df_clean['Ship Date'] = pd.to_datetime(df_clean['Ship Date'])\n",
    "df_clean['days_since_purchase'] = (df_clean['Ship Date'] - df_clean['Order Date']).dt.days\n",
    "df_clean[['Order ID','days_since_purchase']].head()"
   ]
  },
  {
   "cell_type": "markdown",
   "metadata": {},
   "source": [
    "## Step 10: Mini-Aggregation"
   ]
  },
  {
   "cell_type": "code",
   "execution_count": 8,
   "metadata": {},
   "outputs": [
    {
     "data": {
      "text/plain": [
       "[('Afghanistan', 2843589.07),\n",
       " ('Albania', 9709899.27),\n",
       " ('Algeria', 10272591.440000001),\n",
       " ('Andorra', 7153122.97),\n",
       " ('Angola', 15643032.02)]"
      ]
     },
     "execution_count": 8,
     "metadata": {},
     "output_type": "execute_result"
    }
   ],
   "source": [
    "revenue_per_country = df_clean.groupby('Country')['Total Revenue'].sum().to_dict()\n",
    "list(revenue_per_country.items())[:5]"
   ]
  },
  {
   "cell_type": "markdown",
   "metadata": {},
   "source": [
    "## Step 11: Serialization Checkpoint"
   ]
  },
  {
   "cell_type": "code",
   "execution_count": 9,
   "metadata": {},
   "outputs": [
    {
     "name": "stdout",
     "output_type": "stream",
     "text": [
      "Saved to data/cleaned_sales.json\n"
     ]
    }
   ],
   "source": [
    "df_clean.to_json('data/cleaned_sales.json', orient='records', lines=True)\n",
    "print('Saved to data/cleaned_sales.json')"
   ]
  },
  {
   "cell_type": "markdown",
   "metadata": {},
   "source": [
    "## Step 12: Soft Interview Reflection\n",
    "Functions helped modularize the workflow: cleaning, transforming, and mapping steps became reusable units instead of repeated code. Using a function for building dictionaries and another for cleaning ensured clarity, reduced duplication, and made the code easier to debug and extend."
   ]
  },
  {
   "cell_type": "markdown",
   "metadata": {},
   "source": [
    "## Data-Dictionary Section\n",
    "\n",
    "| Field | Type | Description | Source |\n",
    "|-------|------|-------------|--------|\n",
    "| Region | str | Sales region | CSV |\n",
    "| Country | str | Country of order | CSV |\n",
    "| Item Type | str | Product category | CSV |\n",
    "| Sales Channel | str | Online/Offline channel | CSV |\n",
    "| Order Priority | str | Priority level | CSV |\n",
    "| Order Date | date | Purchase date | CSV |\n",
    "| Order ID | int | Unique order identifier | CSV |\n",
    "| Ship Date | date | Shipping date | CSV |\n",
    "| Units Sold | int | Quantity sold | CSV |\n",
    "| Unit Price | float | Price per unit | CSV |\n",
    "| Unit Cost | float | Cost per unit | CSV |\n",
    "| Total Revenue | float | Units Sold × Unit Price | CSV |\n",
    "| Total Cost | float | Units Sold × Unit Cost | CSV |\n",
    "| Total Profit | float | Revenue – Cost | CSV |\n",
    "| coupon_code | str | Synthetic field from priority | Synthetic |\n",
    "| discount_percent | int | Parsed from coupon_code | Derived |\n",
    "| days_since_purchase | int | Difference between Ship Date and Order Date | Derived |"
   ]
  }
 ],
 "metadata": {
  "kernelspec": {
   "display_name": ".venv",
   "language": "python",
   "name": "python3"
  },
  "language_info": {
   "codemirror_mode": {
    "name": "ipython",
    "version": 3
   },
   "file_extension": ".py",
   "mimetype": "text/x-python",
   "name": "python",
   "nbconvert_exporter": "python",
   "pygments_lexer": "ipython3",
   "version": "3.13.7"
  }
 },
 "nbformat": 4,
 "nbformat_minor": 5
}
